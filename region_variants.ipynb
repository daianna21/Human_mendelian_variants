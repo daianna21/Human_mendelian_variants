{
  "nbformat": 4,
  "nbformat_minor": 0,
  "metadata": {
    "colab": {
      "name": "region_variant.ipynb",
      "provenance": [],
      "collapsed_sections": []
    },
    "kernelspec": {
      "name": "python3",
      "display_name": "Python 3"
    },
    "language_info": {
      "name": "python"
    }
  },
  "cells": [
    {
      "cell_type": "markdown",
      "source": [
        "# **Código**\n",
        "\n",
        "A continuación se presenta el código generado para extraer las variantes asociadas a los genes implicados en enfermedades mendelianas, así como sus consecuencias. "
      ],
      "metadata": {
        "id": "XXszkzxXGLo4"
      }
    },
    {
      "cell_type": "code",
      "execution_count": 1,
      "metadata": {
        "id": "IU8WY3g3GJdq"
      },
      "outputs": [],
      "source": [
        "%load_ext rpy2.ipython"
      ]
    },
    {
      "cell_type": "markdown",
      "source": [
        "# **1. Extraer las coordenadas genómicas de los genes implicados en enfermedades mendelianas humanas**\n",
        "\n",
        "Inicialmente se extraen las variables de filtrado para cada gen asociado a una  enfermedad medeliana: cromosoma donde reside, posición de inicio y posición de fin. Posteriormente se limpian los datos eliminando genes con alguno de estos 3 campos faltantes, se parsean para su posterior uso y se eliminan entradas con datos anormales previamente identificados."
      ],
      "metadata": {
        "id": "-3wkDK9yGWoY"
      }
    },
    {
      "cell_type": "code",
      "source": [
        "%%R\n",
        "## Datos de entrada \n",
        "data <- read.table(\"genemap2.txt\",sep = \"\\t\",header = FALSE, fill =  TRUE)\n",
        "## Dimensiones de los datos\n",
        "dim(data)\n",
        "## df con las columnas de interés: chr, inicio y fin\n",
        "df<-data.frame(data[,1], data[,2], data[,3])\n",
        "head(df,10)\n",
        "## Dimesiones del df\n",
        "dim(df)\n",
        "## Corroborar que los datos estén completos\n",
        "## Filas con datos faltantes (\"\") o NA\n",
        "incomp_rows<-which(rowSums(is.na(df) | df == \"\") > 0)\n",
        "## Eliminar esas filas\n",
        "df<-df[-incomp_rows,]\n",
        "dim(df)\n",
        "\n",
        "## Parsear datos\n",
        "## \"chri\" a \"i\"\n",
        "df[,1]<-sub(\"chr\",\"\",df[,1])\n",
        "tail(df)\n",
        "\n",
        "## Eliminar genes que comprendan una región > 1,000,000 nt para pasos posteriores\n",
        "df<-df[-which(strtoi(df[,3])-strtoi(df[,2])>1000000),]\n",
        "\n",
        "## Eliminar entradas con datos anormales\n",
        "df<-df[-3359,]\n",
        "\n",
        "print(dim(df))\n",
        "\n",
        "## Datos del gen con mayor número de variantes encontradas\n",
        "## (ver código completo)\n",
        "print(data[5290,8])\n",
        "print(data[5290,11])\n",
        "print(data[5290,13])"
      ],
      "metadata": {
        "colab": {
          "base_uri": "https://localhost:8080/"
        },
        "id": "267Z6HRIGXjb",
        "outputId": "b208f8c8-ff01-4a68-94e8-d7eaff1c19a8"
      },
      "execution_count": 2,
      "outputs": [
        {
          "output_type": "stream",
          "name": "stdout",
          "text": [
            "[1] 8551    3\n",
            "[1] \"BRCA2 DNA repair-associated protein\"\n",
            "[1] \"ENSG00000139618\"\n",
            "[1] \"Fanconi anemia, complementation group D1, 605724 (3), Autosomal recessive; {Glioblastoma 3}, 613029 (3), Autosomal recessive; {Medulloblastoma}, 155255 (3), Autosomal recessive, Somatic mutation, Autosomal dominant; {Prostate cancer}, 176807 (3), Somatic mutation, Autosomal dominant; {Breast-ovarian cancer, familial, 2}, 612555 (3), Autosomal dominant; {Breast cancer, male, susceptibility to}, 114480 (3), Somatic mutation, Autosomal dominant; {Pancreatic cancer 2}, 613347 (3); Wilms tumor, 194070 (3), Somatic mutation, Autosomal dominant\"\n"
          ]
        }
      ]
    },
    {
      "cell_type": "markdown",
      "source": [
        "# **2. Obtener las variantes asociadas a las regiones que cada gen comprende**\n",
        "\n",
        "Posteriormente se generan solicitudes HTTP para acceder a la información del recurso overlap de Ensembl dada la región genómica de cada gen y la especie *Homo sapiens*. Se extraen las variantes resultantes de cada región provenientes del *dataset* ***clin_assoc***. \n",
        "Para aquellas enfermedades monogénicas multicausales que contengan más de una variante patogénica asociada, se toma a cada una de estas variantes como independientes ya que todas poseen relevancia clínica y dado que se busca el número de mutaciones asociadas a enfermedades."
      ],
      "metadata": {
        "id": "AXZHLdW-Gi5Q"
      }
    },
    {
      "cell_type": "code",
      "source": [
        "%%R\n",
        "## Importar librerías necesarias\n",
        "library(httr)\n",
        "library(jsonlite)\n",
        "\n",
        "## Función para extraer las variantes dada una región genómica\n",
        "getVariantsInRegion <- function(chr, start, end) {\n",
        "    ## Región genómica\n",
        "    region<-paste(chr,\":\",start,\"-\",end, sep=\"\")\n",
        "    ## Buscar variantes en recurso overlap de Ensembl, dada una región y una especie\n",
        "    server <- \"https://rest.ensembl.org/overlap/region/human/\"\n",
        "    ## Buscar variantes en el dataset de clin_assoc\n",
        "    extension <- \"?feature=variation;variant_set=clin_assoc\"\n",
        "    ## Generar solicitud HTTP\n",
        "    full_url <- paste0(server, region, extension)\n",
        "    ## Recuperar registros de la búsqueda \n",
        "    result <- GET(full_url, content_type(\"application/json\"))\n",
        "    stop_for_status(result)\n",
        "    ## Resultados\n",
        "    fromJSON(toJSON(content(result)))\n",
        "}\n",
        "\n"
      ],
      "metadata": {
        "id": "F_ugj4fZGlwl"
      },
      "execution_count": null,
      "outputs": []
    },
    {
      "cell_type": "markdown",
      "source": [
        "# **3. Extraer variantes SNPs/*indels* patogénicas y con coordenadas genómicas del genoma humano GRCh38**\n",
        "\n",
        "Una vez que se obtienen todas las variantes asociadas a cada gen, estas se filtran por significancia clínica (solo se retienen las **patogénicas**), por tipo de variante (si son de nucleótido único o *indels*) y por la versión del genoma humano que determina sus coordenadas genómicas (**GRCh38**). \n",
        "Se extrae el ID y el tipo de consecuencia de cada una de estas variantes ya que este último determina su tipo de región genómica.\n",
        "\n",
        "Adicionalmente se obtiene el número de variantes asociadas a cada gen y a cada cromosoma. "
      ],
      "metadata": {
        "id": "YjT4mYcuGon9"
      }
    },
    {
      "cell_type": "code",
      "source": [
        "%%R\n",
        "conseqs<-vector()\n",
        "num_var<-vector()\n",
        "chr_var<-vector()\n",
        "ids<-vector()\n",
        "total_vars<-vector()\n",
        "\n",
        "## Para cada gen\n",
        "for (i in 1:nrow(df)) {\n",
        "  ## Extraer variantes asociadas a la región\n",
        "  vars <- getVariantsInRegion(chr= df[i,1], start=df[i,2], end=df[i,3])\n",
        "  if (length(vars)>0){\n",
        "    ## Número total de variantes\n",
        "    total_vars<-append(total_vars, nrow(vars))\n",
        "    ## Filtrar variables por sig clínica, versión del genoma humano y tipo SNP/indel\n",
        "    ## Se extrae el tipo de consecuencia y el ID de cada variante\n",
        "    conseq<-vars[which(vars$clinical_significance==\"pathogenic\" & vars$assembly_name==\"GRCh38\" & vars$source==\"dbSNP\"), \"consequence_type\"]\n",
        "    id<-vars[which(vars$clinical_significance==\"pathogenic\" & vars$assembly_name==\"GRCh38\" & vars$source==\"dbSNP\"), \"id\"]\n",
        "    if (length(conseq)>0){\n",
        "      ## Agregar tipo de consecuencia de las variantes\n",
        "      conseqs<-append(conseqs,conseq)\n",
        "      ## Agregar id de cada variante\n",
        "      ids<-append(ids,id)\n",
        "      ## Chr de las variantes\n",
        "      chr_var<-append(chr_var, rep(df[i,1], length(conseq))) }\n",
        "    ## Número de variantes por gen\n",
        "    num_var<-append(num_var,length(conseq)) \n",
        "  }\n",
        "  else {num_var<-append(num_var,0) }\n",
        "}\n",
        "\n",
        "## Número total de variantes\n",
        "print(sum(total_vars))\n",
        "\n",
        "## Data frame con ids y consecuencias de las variantes\n",
        "id_consq<-data.frame(unlist(ids), unlist(conseqs))\n",
        "## Número de variantes tras filtrarlas\n",
        "print(nrow(id_consq))\n",
        "\n",
        "## Verificar que las variantes solo se asignan a una consecuencia\n",
        "## Se toman ids duplicados y se verifica que sus consecuencias también lo estén\n",
        "print(length(which(duplicated(id_consq[,1]))))\n",
        "print(length(which(duplicated(id_consq))))\n"
      ],
      "metadata": {
        "colab": {
          "base_uri": "https://localhost:8080/"
        },
        "id": "I3wzIGYnGrLk",
        "outputId": "b4b69af0-2129-4bf0-e44e-c5184475f264"
      },
      "execution_count": null,
      "outputs": [
        {
          "output_type": "stream",
          "name": "stdout",
          "text": [
            "[1] 73233\n",
            "[1] 32148\n",
            "[1] 812\n",
            "[1] 812\n"
          ]
        }
      ]
    },
    {
      "cell_type": "markdown",
      "source": [
        "# **4. Separar variantes por tipo de región genómica en donde residen**\n",
        "\n",
        "Con las variantes anteriores, se cuantifica cuántas son exónicas, intrónicas, codificantes, no codificantes, génicas e intergénicas; así como el número de variantes por gen y chr. "
      ],
      "metadata": {
        "id": "W6lvCPFZJyge"
      }
    },
    {
      "cell_type": "code",
      "source": [
        "%%R\n",
        "\n",
        "## Clasificación de las consecuencias de las variantes por región donde son efectoras\n",
        "## Variantes exónicas\n",
        "exonic_variants<-c(\"transcript_ablation\", \"stop_gained\", \"frameshift_variant\", \"stop_lost\", \n",
        "                   \"start_lost\", \"transcript_amplification\", \"inframe_insertion\", \"inframe_deletion\", \"protein_altering_variant\", \n",
        "                   \"missense_variant\",\"incomplete_terminal_codon_variant\",\"stop_retained_variant\",\"start_retained_variant\", \n",
        "                   \"synonymous_variant\", \"coding_sequence_variant\",\"mature_miRNA_variant\",\"5_prime_UTR_variant\",\"3_prime_UTR_variant\",\n",
        "                   \"non_coding_transcript_exon_variant\",\"NMD_transcript_variant\",\"non_coding_transcript_variant\")\n",
        "\n",
        "\n",
        "## Variantes intrónicas \n",
        "intronic_variants<-c(\"splice_donor_variant\", \"splice_acceptor_variant\",\"splice_donor_5th_base_variant\",\"splice_region_variant\", \n",
        "                     \"splice_polypyrimidine_tract_variant\", \"splice_donor_region_variant\",\"intron_variant\")\n",
        "## Variantes codificantes\n",
        "cod_variants<-c(\"transcript_ablation\", \"stop_gained\", \"frameshift_variant\", \"start_lost\", \"transcript_amplification\", \"inframe_insertion\", \n",
        "                \"inframe_deletion\", \"protein_altering_variant\", \"missense_variant\",\"start_retained_variant\", \"synonymous_variant\", \n",
        "                \"coding_sequence_variant\",\"NMD_transcript_variant\")\n",
        "## Variantes no codificantes\n",
        "non_cod_variants<-c(\"splice_donor_variant\", \"splice_acceptor_variant\",\"splice_donor_5th_base_variant\",\"splice_region_variant\", \n",
        "                     \"splice_polypyrimidine_tract_variant\", \"splice_donor_region_variant\",\"intron_variant\",\"stop_lost\", \n",
        "                    \"incomplete_terminal_codon_variant\",\"stop_retained_variant\",\"mature_miRNA_variant\",\"5_prime_UTR_variant\",\n",
        "                    \"3_prime_UTR_variant\",\"non_coding_transcript_exon_variant\",\"non_coding_transcript_variant\")\n",
        "## Variantes génicas\n",
        "genic_variants<-c(\"transcript_ablation\", \"stop_gained\", \"frameshift_variant\", \"stop_lost\", \n",
        "                   \"start_lost\", \"transcript_amplification\", \"inframe_insertion\", \"inframe_deletion\", \"protein_altering_variant\", \n",
        "                   \"missense_variant\",\"incomplete_terminal_codon_variant\",\"stop_retained_variant\",\"start_retained_variant\", \n",
        "                   \"synonymous_variant\", \"coding_sequence_variant\",\"mature_miRNA_variant\",\"5_prime_UTR_variant\",\"3_prime_UTR_variant\",\n",
        "                   \"non_coding_transcript_exon_variant\",\"NMD_transcript_variant\",\"non_coding_transcript_variant\",\"splice_donor_variant\", \n",
        "                   \"splice_acceptor_variant\",\"splice_donor_5th_base_variant\",\"splice_region_variant\", \"splice_polypyrimidine_tract_variant\", \n",
        "                   \"splice_donor_region_variant\",\"intron_variant\")\n",
        "## Variantes intergénicas\n",
        "intergenic_variants<-c(\"upstream_gene_variant\",\"downstream_gene_variant\",\"TFBS_ablation\",\"TFBS_amplification\",\"TF_binding_site\",\n",
        "                       \"regulatory_region_ablation\",\"regulatory_region_amplification\", \"regulatory_region_variant\",\"intergenic_variant\")\n",
        "\n",
        "## Variantes de cada tipo\n",
        "exon_var<-which(conseqs %in% exonic_variants)\n",
        "intron_var<-which(conseqs %in% intronic_variants)\n",
        "coding_var<-which(conseqs %in% cod_variants)\n",
        "non_cod_var<-which(conseqs %in% non_cod_variants)\n",
        "gen_var<-which(conseqs %in% genic_variants)\n",
        "inter_var<-which(conseqs %in% intergenic_variants)\n",
        "exonic_or_cod<-which(conseqs %in% union(exonic_variants,cod_variants))\n",
        "\n",
        "## Número de variantes de cada tipo\n",
        "print(length(exon_var))\n",
        "print(length(intron_var))\n",
        "print(length(coding_var))\n",
        "print(length(non_cod_var))\n",
        "print(length(gen_var))\n",
        "print(length(inter_var))\n",
        "print(length(exonic_or_cod))\n",
        "\n",
        "## Número de variantes por gen\n",
        "var_per_gene<-table(num_var)        \n",
        "print(sum(num_var))\n",
        "\n",
        "## Número de genes/loci con al menos 1 variante\n",
        "print(length(which(num_var>0)))\n",
        "## Gen con mayor número de variantes\n",
        "print(max(num_var))\n",
        "print(df[which.max(num_var),])\n",
        "\n",
        "## Número de variantes por chr\n",
        "var_per_chr<-data.frame(table(chr_var))\n",
        "print(table(chr_var))\n"
      ],
      "metadata": {
        "colab": {
          "base_uri": "https://localhost:8080/"
        },
        "id": "Ao_vO7wGJzsG",
        "outputId": "306fb621-83d4-452c-eb38-af0cb2c44b7a"
      },
      "execution_count": null,
      "outputs": [
        {
          "output_type": "stream",
          "name": "stdout",
          "text": [
            "[1] 28911\n",
            "[1] 3237\n",
            "[1] 28670\n",
            "[1] 3478\n",
            "[1] 32148\n",
            "[1] 0\n",
            "[1] 28911\n",
            "[1] 32148\n",
            "[1] 2094\n",
            "[1] 2418\n",
            "[1] 4865\n",
            "     data...1. data...2. data...3.\n",
            "5290        13  32315507  32400267\n",
            "chr_var\n",
            "   1   10   11   12   13   14   15   16   17   18   19    2   20   21   22    3 \n",
            "2352 1494 1568  473 3286 1333 2182 1252 2458  862 2211 2231  273  581  298 2030 \n",
            "   4    5    6    7    8    9    X \n",
            " 780 1666  373 1906  141  581 1817 \n"
          ]
        }
      ]
    },
    {
      "cell_type": "markdown",
      "source": [
        "# **5. Graficación y visualización de resultados**\n",
        "\n",
        "Con los datos anteriores se generan gráficas para representar los porcentajes de variantes asociados a cada tipo de región genómica, la distribución del número de variantes en los genes y el número de variantes de cada chr. "
      ],
      "metadata": {
        "id": "QknyOCdYnYih"
      }
    },
    {
      "cell_type": "code",
      "source": [
        "\n",
        "%%R\n",
        "library(ggplot2)\n",
        "\n",
        "## Porcentajes de variantes de cada tipo de región\n",
        "exonic_vs_intronic<-data.frame(region_type=c(\"Exónicas\",\"Intrónicas\"),percentage=c(89.93,10.07))\n",
        "cod_vs_non_cod<-data.frame(region_type=c(\"Codificantes\",\"No codificantes\"),percentage=c(89.2,10.8))\n",
        "genic_vs_intergenic<-data.frame(region_type=c(\"Génicas\",\"Intergénicas\"),percentage=c(100,0))\n",
        "intronic_vs_cod_inter<-data.frame(region_type=c(\"Intrónicas\",\"Codificantes\",\"Intergénicas\"),percentage=c(10.07,89.2,0))\n",
        "\n",
        "## Porcentaje de variantes exónicas vs intrónicas \n",
        "ggplot(exonic_vs_intronic, aes(x = \"\", y = percentage, fill = region_type)) +\n",
        "  geom_col(color = \"black\") +\n",
        "  geom_label(aes(label = percentage),\n",
        "             position = position_stack(vjust = 0.5),\n",
        "             show.legend = FALSE) +\n",
        "  coord_polar(theta = \"y\") +\n",
        "  scale_fill_manual(values = c(\"#99CCFF\", \"#FFCC99\"))+\n",
        "  guides(fill = guide_legend(title = \"Tipo de región\"))+\n",
        "  ggtitle(\"A) Porcentaje de variantes en regiones exónicas e intrónicas\") +\n",
        "  theme_void()+\n",
        "  theme(plot.title = element_text(face=\"bold\",  size=14, hjust = 0))\n",
        "\n",
        "## Porcentaje de variantes génicas vs intergénicas\n",
        "ggplot(genic_vs_intergenic, aes(x = \"\", y = percentage, fill = region_type)) +\n",
        "  geom_col(color = \"black\") +\n",
        "  geom_label(aes(label = percentage),\n",
        "             position = position_stack(vjust = 0.5),\n",
        "             show.legend = FALSE) +\n",
        "  coord_polar(theta = \"y\") +\n",
        "  scale_fill_manual(values = c(\"#FFB6C1\", \"#FFD700\"))+\n",
        "  guides(fill = guide_legend(title = \"Tipo de región\"))+\n",
        "  ggtitle(\"B) Porcentaje de variantes en regiones génicas e intergénicas\") +\n",
        "  theme_void()+\n",
        "  theme(plot.title = element_text(face=\"bold\",  size=14, hjust = 0))\n",
        "\n",
        "\n",
        "## Porcentaje de variantes codificantes vs no codificantes\n",
        "ggplot(cod_vs_non_cod, aes(x = \"\", y = percentage, fill = region_type)) +\n",
        "  geom_col(color = \"black\") +\n",
        "  geom_label(aes(label = percentage),\n",
        "             position = position_stack(vjust = 0.5),\n",
        "             show.legend = FALSE) +\n",
        "  coord_polar(theta = \"y\") +\n",
        "  scale_fill_manual(values = c(\"#99FF33\", \"#FFCC00\"))+\n",
        "  guides(fill = guide_legend(title = \"Tipo de región\"))+\n",
        "  ggtitle(\"C) Porcentaje de variantes en regiones codificantes y no codificantes\") +\n",
        "  theme_void()+\n",
        "  theme(plot.title = element_text(face=\"bold\",  size=14, hjust = 0))\n",
        "\n",
        "\n",
        "## Porcentaje de variantes intrónicas vs codificantes vs intergénicas\n",
        "ggplot(intronic_vs_cod_inter, aes(x = \"\", y = percentage, fill = region_type)) +\n",
        "  geom_col(color = \"black\") +\n",
        "  geom_label(aes(label = percentage),\n",
        "             position = position_stack(vjust = 0.5),\n",
        "             show.legend = FALSE) +\n",
        "  coord_polar(theta = \"y\") +\n",
        "  scale_fill_manual(values = c(\"#FF7256\", \"#00BFFF\",\"#FFD700\"))+\n",
        "  guides(fill = guide_legend(title = \"Tipo de región\"))+\n",
        "  ggtitle(\"Porcentaje de variantes en regiones intrónicas, codificantes e intergénicas\") +\n",
        "  theme_void()+\n",
        "  theme(plot.title = element_text(face=\"bold\",  size=14, hjust = 0))\n",
        "\n",
        "\n",
        "\n",
        "## Distribución del número de variantes de los genes\n",
        "var_per_gene<-data.frame(var_per_gene)\n",
        "## Plot\n",
        "ggplot(var_per_gene, aes(x=num_var, y=Freq, fill=num_var)) + \n",
        "       geom_bar(stat=\"identity\")+\n",
        "       theme_classic()+\n",
        "       theme(legend.position=\"none\")+\n",
        "  ggtitle(\"A) Distribución del número de variantes de los genes\") +\n",
        "  theme(plot.title = element_text(face=\"bold\",  size=12, hjust = 0.5))+\n",
        "  xlab(\"Número de variantes\") +\n",
        "  ylab(\"Frecuencia\")+\n",
        "  coord_cartesian(xlim = c(0, 26))\n",
        "## Boxplot del número de variantes en los genes\n",
        "boxplot(num_var, main=\"B) Bolxplot del número de variantes en los genes\", \n",
        "        xlab=\"Genes asociados a enfermedades mendelianas\", ylab=\"Número de variantes patogénicas\")\n",
        "\n",
        "\n",
        "## Número de variantes por chr\n",
        "var_per_chr<-data.frame(table(chr_var))\n",
        "var_per_chr$chr_var<-as.character(var_per_chr$chr_var)\n",
        "## Agregar chr  Y\n",
        "var_per_chr[24,]<-c(\"Y\",0)\n",
        "\n",
        "## Plot\n",
        "ggplot(var_per_chr, aes(x=chr_var, y=as.integer(Freq), fill=chr_var)) + \n",
        "       geom_bar(stat=\"identity\")+\n",
        "       theme_classic()+\n",
        "       geom_text(aes(label=signif(as.integer(Freq)/32148, 1), vjust=-0.3))+\n",
        "       ggtitle(\"Número de variantes por cromosoma\") +\n",
        "       theme(plot.title = element_text(face=\"bold\",  size=12, hjust = 0.5))+\n",
        "       xlab(\"Cromosoma\") +\n",
        "       ylab(\"Número de variantes\")\n",
        "\n",
        "\n",
        "\n"
      ],
      "metadata": {
        "id": "oxvcRymGnwt_",
        "colab": {
          "base_uri": "https://localhost:8080/",
          "height": 977
        },
        "outputId": "60915b79-661b-49a3-e5b4-b37dda3b9f33"
      },
      "execution_count": null,
      "outputs": [
        {
          "output_type": "display_data",
          "data": {
            "image/png": "[encoded data removed]"
          },
          "metadata": {}
        },
        {
          "output_type": "display_data",
          "data": {
            "image/png": "[encoded data removed]"
          },
          "metadata": {}
        }
      ]
    },
    {
      "cell_type": "code",
      "source": [
        "%%R\n",
        "## Reproducir código\n",
        "options(width = 120)\n",
        "sessioninfo::session_info()"
      ],
      "metadata": {
        "id": "HjVw78CVB9Cy",
        "colab": {
          "base_uri": "https://localhost:8080/"
        },
        "outputId": "d9d6066c-a90a-49d9-fd24-d26dbb0ef71f"
      },
      "execution_count": 3,
      "outputs": [
        {
          "output_type": "stream",
          "name": "stdout",
          "text": [
            "─ Session info ───────────────────────────────────────────────────────────────────────────────────────────────────────\n",
            " setting  value\n",
            " version  R version 4.2.0 (2022-04-22)\n",
            " os       Ubuntu 18.04.5 LTS\n",
            " system   x86_64, linux-gnu\n",
            " ui       X11\n",
            " language (EN)\n",
            " collate  en_US.UTF-8\n",
            " ctype    en_US.UTF-8\n",
            " tz       Etc/UTC\n",
            " date     2022-05-15\n",
            " pandoc   1.19.2.4 @ /usr/bin/pandoc\n",
            "\n",
            "─ Packages ───────────────────────────────────────────────────────────────────────────────────────────────────────────\n",
            " package     * version date (UTC) lib source\n",
            " cli           3.3.0   2022-04-25 [2] CRAN (R 4.2.0)\n",
            " sessioninfo   1.2.2   2021-12-06 [2] CRAN (R 4.1.2)\n",
            "\n",
            " [1] /usr/local/lib/R/site-library\n",
            " [2] /usr/lib/R/site-library\n",
            " [3] /usr/lib/R/library\n",
            "\n",
            "──────────────────────────────────────────────────────────────────────────────────────────────────────────────────────\n"
          ]
        }
      ]
    }
  ]
}